{
 "cells": [
  {
   "cell_type": "markdown",
   "metadata": {},
   "source": [
    "# Project 3 (Part 4) -  Romance vs Horror Reddit Classification (Modeling & Evaluation)"
   ]
  },
  {
   "cell_type": "markdown",
   "metadata": {},
   "source": [
    "## Processes covered in this notebook\n",
    "\n",
    "1. [Importing of datasets](#Importing-of-datasets)\n",
    "2. [Establishing Baseline Accuracy](#Establishing-Baseline-Accuracy)\n",
    "3. [Mapping subreddit](#Mapping-subreddit)\n",
    "4. [Train Test Split](#Train-Test-Split)\n",
    "5. [Creating Stemming & Lemmatizing Functions for RandomizedSearch](#Creating-Stemming-and-Lemmatizing-Functions-for-RandomizedSearch)\n",
    "6. [Updating stopwords list with ones from EDA](#Updating-stopwords-list-with-ones-from-EDA)\n",
    "7. [Implementing Pipeline & RandomizedSearch](#Implementing-Pipeline-&-RandomizedSearch)\n",
    "8. [Using Multinomial Naive Bayes Classifier to help us draw inference](#Using-Multinomial-Naive-Bayes-Classifier-to-help-us-draw-inference)\n",
    "9. [Evaluation of our Multinomial Naive Bayes Model](#Evaluation-of-our-Multinomial-Naive-Bayes-Model)"
   ]
  },
  {
   "cell_type": "code",
   "execution_count": 1,
   "metadata": {},
   "outputs": [],
   "source": [
    "import re\n",
    "import pandas as pd\n",
    "import numpy as np\n",
    "import matplotlib.pyplot as plt\n",
    "from sklearn.feature_extraction.text import CountVectorizer, TfidfVectorizer\n",
    "from sklearn.linear_model import LogisticRegression\n",
    "from sklearn.model_selection import train_test_split, GridSearchCV, RandomizedSearchCV, cross_val_score\n",
    "from sklearn.metrics import confusion_matrix, roc_curve\n",
    "from sklearn.pipeline import Pipeline\n",
    "from sklearn.naive_bayes import MultinomialNB\n",
    "from sklearn.ensemble import BaggingClassifier, RandomForestClassifier\n",
    "from sklearn.tree import DecisionTreeClassifier, plot_tree\n",
    "from sklearn.feature_extraction import text\n",
    "from nltk.stem import WordNetLemmatizer\n",
    "from nltk.stem import PorterStemmer\n",
    "from nltk import word_tokenize"
   ]
  },
  {
   "cell_type": "markdown",
   "metadata": {},
   "source": [
    "## Importing of datasets"
   ]
  },
  {
   "cell_type": "code",
   "execution_count": 2,
   "metadata": {},
   "outputs": [],
   "source": [
    "df = pd.read_csv('../datasets/horror&romance.csv')"
   ]
  },
  {
   "cell_type": "code",
   "execution_count": 3,
   "metadata": {},
   "outputs": [
    {
     "data": {
      "text/html": [
       "<div>\n",
       "<style scoped>\n",
       "    .dataframe tbody tr th:only-of-type {\n",
       "        vertical-align: middle;\n",
       "    }\n",
       "\n",
       "    .dataframe tbody tr th {\n",
       "        vertical-align: top;\n",
       "    }\n",
       "\n",
       "    .dataframe thead th {\n",
       "        text-align: right;\n",
       "    }\n",
       "</style>\n",
       "<table border=\"1\" class=\"dataframe\">\n",
       "  <thead>\n",
       "    <tr style=\"text-align: right;\">\n",
       "      <th></th>\n",
       "      <th>selftext</th>\n",
       "      <th>subreddit</th>\n",
       "    </tr>\n",
       "  </thead>\n",
       "  <tbody>\n",
       "    <tr>\n",
       "      <th>0</th>\n",
       "      <td>1. 500 Word Limit. All stories must be 500 wor...</td>\n",
       "      <td>shortscarystories</td>\n",
       "    </tr>\n",
       "    <tr>\n",
       "      <th>1</th>\n",
       "      <td>I was sitting on the soft snow with a blanket ...</td>\n",
       "      <td>shortscarystories</td>\n",
       "    </tr>\n",
       "    <tr>\n",
       "      <th>2</th>\n",
       "      <td>But the hatred that fills the room whenever he...</td>\n",
       "      <td>shortscarystories</td>\n",
       "    </tr>\n",
       "    <tr>\n",
       "      <th>3</th>\n",
       "      <td>I woke up hungry this morning. I've been sick ...</td>\n",
       "      <td>shortscarystories</td>\n",
       "    </tr>\n",
       "    <tr>\n",
       "      <th>4</th>\n",
       "      <td>I had seen school shootings on television in t...</td>\n",
       "      <td>shortscarystories</td>\n",
       "    </tr>\n",
       "  </tbody>\n",
       "</table>\n",
       "</div>"
      ],
      "text/plain": [
       "                                            selftext          subreddit\n",
       "0  1. 500 Word Limit. All stories must be 500 wor...  shortscarystories\n",
       "1  I was sitting on the soft snow with a blanket ...  shortscarystories\n",
       "2  But the hatred that fills the room whenever he...  shortscarystories\n",
       "3  I woke up hungry this morning. I've been sick ...  shortscarystories\n",
       "4  I had seen school shootings on television in t...  shortscarystories"
      ]
     },
     "execution_count": 3,
     "metadata": {},
     "output_type": "execute_result"
    }
   ],
   "source": [
    "df.head()"
   ]
  },
  {
   "cell_type": "markdown",
   "metadata": {},
   "source": [
    "## Establishing Baseline Accuracy"
   ]
  },
  {
   "cell_type": "code",
   "execution_count": 4,
   "metadata": {},
   "outputs": [
    {
     "data": {
      "text/plain": [
       "shortscarystories    996\n",
       "romance              873\n",
       "Name: subreddit, dtype: int64"
      ]
     },
     "execution_count": 4,
     "metadata": {},
     "output_type": "execute_result"
    }
   ],
   "source": [
    "df['subreddit'].value_counts()"
   ]
  },
  {
   "cell_type": "code",
   "execution_count": 5,
   "metadata": {},
   "outputs": [
    {
     "data": {
      "text/plain": [
       "shortscarystories    0.532905\n",
       "romance              0.467095\n",
       "Name: subreddit, dtype: float64"
      ]
     },
     "execution_count": 5,
     "metadata": {},
     "output_type": "execute_result"
    }
   ],
   "source": [
    "df['subreddit'].value_counts(normalize=True)"
   ]
  },
  {
   "cell_type": "code",
   "execution_count": 6,
   "metadata": {},
   "outputs": [
    {
     "name": "stdout",
     "output_type": "stream",
     "text": [
      "Short Scary Stories: 53.26%\n",
      "Romance: 46.74%\n"
     ]
    }
   ],
   "source": [
    "print ('Short Scary Stories: ' + str(round((996/(996+874)*100),2)) + '%')\n",
    "print ('Romance: ' + str(round((874/(874+996)*100),2)) + '%')"
   ]
  },
  {
   "cell_type": "markdown",
   "metadata": {},
   "source": [
    "**Baseline Accuraccy is: 53.26%**"
   ]
  },
  {
   "cell_type": "markdown",
   "metadata": {},
   "source": [
    "## Mapping subreddit\n",
    "\n",
    "_(shortscarystories - 1, romance - 0)_"
   ]
  },
  {
   "cell_type": "code",
   "execution_count": 7,
   "metadata": {},
   "outputs": [
    {
     "data": {
      "text/html": [
       "<div>\n",
       "<style scoped>\n",
       "    .dataframe tbody tr th:only-of-type {\n",
       "        vertical-align: middle;\n",
       "    }\n",
       "\n",
       "    .dataframe tbody tr th {\n",
       "        vertical-align: top;\n",
       "    }\n",
       "\n",
       "    .dataframe thead th {\n",
       "        text-align: right;\n",
       "    }\n",
       "</style>\n",
       "<table border=\"1\" class=\"dataframe\">\n",
       "  <thead>\n",
       "    <tr style=\"text-align: right;\">\n",
       "      <th></th>\n",
       "      <th>selftext</th>\n",
       "      <th>subreddit</th>\n",
       "    </tr>\n",
       "  </thead>\n",
       "  <tbody>\n",
       "    <tr>\n",
       "      <th>0</th>\n",
       "      <td>1. 500 Word Limit. All stories must be 500 wor...</td>\n",
       "      <td>1</td>\n",
       "    </tr>\n",
       "    <tr>\n",
       "      <th>1</th>\n",
       "      <td>I was sitting on the soft snow with a blanket ...</td>\n",
       "      <td>1</td>\n",
       "    </tr>\n",
       "    <tr>\n",
       "      <th>2</th>\n",
       "      <td>But the hatred that fills the room whenever he...</td>\n",
       "      <td>1</td>\n",
       "    </tr>\n",
       "    <tr>\n",
       "      <th>3</th>\n",
       "      <td>I woke up hungry this morning. I've been sick ...</td>\n",
       "      <td>1</td>\n",
       "    </tr>\n",
       "    <tr>\n",
       "      <th>4</th>\n",
       "      <td>I had seen school shootings on television in t...</td>\n",
       "      <td>1</td>\n",
       "    </tr>\n",
       "  </tbody>\n",
       "</table>\n",
       "</div>"
      ],
      "text/plain": [
       "                                            selftext  subreddit\n",
       "0  1. 500 Word Limit. All stories must be 500 wor...          1\n",
       "1  I was sitting on the soft snow with a blanket ...          1\n",
       "2  But the hatred that fills the room whenever he...          1\n",
       "3  I woke up hungry this morning. I've been sick ...          1\n",
       "4  I had seen school shootings on television in t...          1"
      ]
     },
     "execution_count": 7,
     "metadata": {},
     "output_type": "execute_result"
    }
   ],
   "source": [
    "df['subreddit'] = df['subreddit'].map({'shortscarystories':1, 'romance':0})\n",
    "df.head()"
   ]
  },
  {
   "cell_type": "markdown",
   "metadata": {},
   "source": [
    "## Train Test Split"
   ]
  },
  {
   "cell_type": "code",
   "execution_count": 8,
   "metadata": {},
   "outputs": [],
   "source": [
    "X = df['selftext']\n",
    "y = df['subreddit']"
   ]
  },
  {
   "cell_type": "code",
   "execution_count": 9,
   "metadata": {},
   "outputs": [],
   "source": [
    "X_train, X_test, y_train, y_test = train_test_split(X, y, test_size = 0.25, stratify=y, random_state=7)"
   ]
  },
  {
   "cell_type": "code",
   "execution_count": 10,
   "metadata": {},
   "outputs": [
    {
     "name": "stdout",
     "output_type": "stream",
     "text": [
      "1    53.319058\n",
      "0    46.680942\n",
      "Name: subreddit, dtype: float64\n"
     ]
    }
   ],
   "source": [
    "#Checking strafication\n",
    "\n",
    "print (y_train.value_counts(normalize=True)*100)"
   ]
  },
  {
   "cell_type": "markdown",
   "metadata": {},
   "source": [
    "## Creating Stemming and Lemmatizing Functions for RandomizedSearch"
   ]
  },
  {
   "cell_type": "code",
   "execution_count": 11,
   "metadata": {},
   "outputs": [],
   "source": [
    "# Creating stemmer function for later use\n",
    "\n",
    "def stemming_tokenizer(str_input):\n",
    "    words = re.sub(r\"[^A-Za-z0-9]\", \" \", str_input).lower().split() # Remove punctuation before stemming\n",
    "    words = ' '.join(words) # Combining list of words again for second process\n",
    "    words = re.sub(r\"\\s\\w{1}\\s\", \" \", words).lower().split() # Removing single (potentially typo) characters (e.g. 't', 'a', 'i', etc)\n",
    "    words = [PorterStemmer().stem(word) for word in words]\n",
    "    words = [word for word in words if re.match(r'\\w{2,}', word)]\n",
    "    return words"
   ]
  },
  {
   "cell_type": "code",
   "execution_count": 12,
   "metadata": {},
   "outputs": [],
   "source": [
    "# Creating lemmatizer function for later use\n",
    "\n",
    "def lemma_tokenizer(str_input):\n",
    "    words = re.sub(r\"[^A-Za-z0-9]\", \" \", str_input).lower().split() # Remove punctuation before stemming\n",
    "    words = ' '.join(words) # Combining list of words again for second process\n",
    "    words = re.sub(r\"\\s\\w{1}\\s\", \" \", words).lower().split() # Removing single (potentially typo) characters (e.g. 't', 'a', 'i', etc)\n",
    "    words = [WordNetLemmatizer().lemmatize(word) for word in words]\n",
    "    words = [word for word in words if re.match(r'\\w{2,}', word)]\n",
    "    return words"
   ]
  },
  {
   "cell_type": "markdown",
   "metadata": {},
   "source": [
    "## Updating stopwords list with ones from EDA"
   ]
  },
  {
   "cell_type": "code",
   "execution_count": 13,
   "metadata": {},
   "outputs": [],
   "source": [
    "# This is an iterative process where we come back to add in stopwords which were lacking \n",
    "# (warned by system in a previous iteration + through EDA)\n",
    "\n",
    "updated_stop_words = text.ENGLISH_STOP_WORDS.union(['me', 'don', 'like', 'just', 'time', 'abov', 'afterward', 'alon', 'alreadi', 'alway', 'ani', 'anoth', 'anyon', 'anyth', 'anywher', 'becam', 'becaus', 'becom', 'befor', 'besid', 'cri', 'describ', 'dure', 'els', 'elsewher', 'empti', 'everi', 'everyon', 'everyth', 'everywher', 'fifti', 'formerli', 'forti', 'ha', 'henc', 'hereaft', 'herebi', 'hi', 'howev', 'hundr', 'inde', 'latterli', 'mani', 'meanwhil', 'moreov', 'mostli', 'nobodi', 'noon', 'noth', 'nowher', 'onc', 'onli', 'otherwis', 'ourselv', 'perhap', 'pleas', 'seriou', 'sever', 'sinc', 'sincer', 'sixti', 'someon', 'someth', 'sometim', 'somewher', 'themselv', 'thenc', 'thereaft', 'therebi', 'therefor', 'thi', 'thu', 'togeth', 'twelv', 'twenti', 'veri', 'wa', 'whatev', 'whenc', 'whenev', 'wherea', 'whereaft', 'wherebi', 'wherev', 'whi', 'yourselv', 'el', 'le', 'plea', 'u', 'anywh', 'becau', 'elsewh', 'everywh', 'ind', 'otherwi', 'somewh'])"
   ]
  },
  {
   "cell_type": "markdown",
   "metadata": {},
   "source": [
    "## Implementing Pipeline & RandomizedSearch"
   ]
  },
  {
   "cell_type": "markdown",
   "metadata": {},
   "source": [
    "### Implementing Pipeline & RandomizedSearch (TfidfVectorizer & Naive Bayes Classification)"
   ]
  },
  {
   "cell_type": "code",
   "execution_count": 14,
   "metadata": {},
   "outputs": [],
   "source": [
    "NB_steps = [('tfidf', TfidfVectorizer()),\n",
    "            ('NB', MultinomialNB())]\n",
    "\n",
    "NB_pipeline = Pipeline(NB_steps)"
   ]
  },
  {
   "cell_type": "code",
   "execution_count": 15,
   "metadata": {},
   "outputs": [],
   "source": [
    "parameters = {\n",
    "    'tfidf__analyzer' : [\"word\"],\n",
    "    'tfidf__ngram_range' : [(1,2), (1,1)],\n",
    "    'tfidf__max_features' : [1000, 2000, 5000],\n",
    "    'tfidf__min_df' : range(1,5),\n",
    "    'tfidf__max_df' : np.linspace(0.9, 1, 5),\n",
    "    'tfidf__stop_words' : [updated_stop_words],\n",
    "    'tfidf__tokenizer' : [stemming_tokenizer, lemma_tokenizer]\n",
    "}"
   ]
  },
  {
   "cell_type": "code",
   "execution_count": 16,
   "metadata": {},
   "outputs": [],
   "source": [
    "rscv_MNB = RandomizedSearchCV(NB_pipeline, param_distributions=parameters, n_jobs=8, cv=5, verbose=1)"
   ]
  },
  {
   "cell_type": "code",
   "execution_count": 17,
   "metadata": {
    "scrolled": false
   },
   "outputs": [
    {
     "name": "stdout",
     "output_type": "stream",
     "text": [
      "Fitting 5 folds for each of 10 candidates, totalling 50 fits\n"
     ]
    },
    {
     "name": "stderr",
     "output_type": "stream",
     "text": [
      "[Parallel(n_jobs=8)]: Using backend LokyBackend with 8 concurrent workers.\n",
      "[Parallel(n_jobs=8)]: Done  34 tasks      | elapsed:   51.9s\n",
      "[Parallel(n_jobs=8)]: Done  50 out of  50 | elapsed:  1.3min finished\n"
     ]
    },
    {
     "data": {
      "text/plain": [
       "RandomizedSearchCV(cv=5, error_score='raise-deprecating',\n",
       "                   estimator=Pipeline(memory=None,\n",
       "                                      steps=[('tfidf',\n",
       "                                              TfidfVectorizer(analyzer='word',\n",
       "                                                              binary=False,\n",
       "                                                              decode_error='strict',\n",
       "                                                              dtype=<class 'numpy.float64'>,\n",
       "                                                              encoding='utf-8',\n",
       "                                                              input='content',\n",
       "                                                              lowercase=True,\n",
       "                                                              max_df=1.0,\n",
       "                                                              max_features=None,\n",
       "                                                              min_df=1,\n",
       "                                                              ngram_range=(1,\n",
       "                                                                           1),\n",
       "                                                              norm='l2',\n",
       "                                                              preprocessor=None,\n",
       "                                                              smooth_idf=True,\n",
       "                                                              sto...\n",
       "                                                                         'along',\n",
       "                                                                         'alreadi',\n",
       "                                                                         'already',\n",
       "                                                                         'also',\n",
       "                                                                         'although',\n",
       "                                                                         'alway',\n",
       "                                                                         'always',\n",
       "                                                                         'am',\n",
       "                                                                         'among',\n",
       "                                                                         'amongst',\n",
       "                                                                         'amoungst',\n",
       "                                                                         'amount',\n",
       "                                                                         'an',\n",
       "                                                                         'and',\n",
       "                                                                         'ani',\n",
       "                                                                         'anoth', ...})],\n",
       "                                        'tfidf__tokenizer': [<function stemming_tokenizer at 0x000001C19E583B70>,\n",
       "                                                             <function lemma_tokenizer at 0x000001C19E583EA0>]},\n",
       "                   pre_dispatch='2*n_jobs', random_state=None, refit=True,\n",
       "                   return_train_score=False, scoring=None, verbose=1)"
      ]
     },
     "execution_count": 17,
     "metadata": {},
     "output_type": "execute_result"
    }
   ],
   "source": [
    "rscv_MNB.fit(X_train, y_train)"
   ]
  },
  {
   "cell_type": "code",
   "execution_count": 18,
   "metadata": {
    "scrolled": true
   },
   "outputs": [
    {
     "data": {
      "text/plain": [
       "{'tfidf__tokenizer': <function __main__.stemming_tokenizer(str_input)>,\n",
       " 'tfidf__stop_words': frozenset({'a',\n",
       "            'about',\n",
       "            'abov',\n",
       "            'above',\n",
       "            'across',\n",
       "            'after',\n",
       "            'afterward',\n",
       "            'afterwards',\n",
       "            'again',\n",
       "            'against',\n",
       "            'all',\n",
       "            'almost',\n",
       "            'alon',\n",
       "            'alone',\n",
       "            'along',\n",
       "            'alreadi',\n",
       "            'already',\n",
       "            'also',\n",
       "            'although',\n",
       "            'alway',\n",
       "            'always',\n",
       "            'am',\n",
       "            'among',\n",
       "            'amongst',\n",
       "            'amoungst',\n",
       "            'amount',\n",
       "            'an',\n",
       "            'and',\n",
       "            'ani',\n",
       "            'anoth',\n",
       "            'another',\n",
       "            'any',\n",
       "            'anyhow',\n",
       "            'anyon',\n",
       "            'anyone',\n",
       "            'anyth',\n",
       "            'anything',\n",
       "            'anyway',\n",
       "            'anywh',\n",
       "            'anywher',\n",
       "            'anywhere',\n",
       "            'are',\n",
       "            'around',\n",
       "            'as',\n",
       "            'at',\n",
       "            'back',\n",
       "            'be',\n",
       "            'becam',\n",
       "            'became',\n",
       "            'becau',\n",
       "            'becaus',\n",
       "            'because',\n",
       "            'becom',\n",
       "            'become',\n",
       "            'becomes',\n",
       "            'becoming',\n",
       "            'been',\n",
       "            'befor',\n",
       "            'before',\n",
       "            'beforehand',\n",
       "            'behind',\n",
       "            'being',\n",
       "            'below',\n",
       "            'besid',\n",
       "            'beside',\n",
       "            'besides',\n",
       "            'between',\n",
       "            'beyond',\n",
       "            'bill',\n",
       "            'both',\n",
       "            'bottom',\n",
       "            'but',\n",
       "            'by',\n",
       "            'call',\n",
       "            'can',\n",
       "            'cannot',\n",
       "            'cant',\n",
       "            'co',\n",
       "            'con',\n",
       "            'could',\n",
       "            'couldnt',\n",
       "            'cri',\n",
       "            'cry',\n",
       "            'de',\n",
       "            'describ',\n",
       "            'describe',\n",
       "            'detail',\n",
       "            'do',\n",
       "            'don',\n",
       "            'done',\n",
       "            'down',\n",
       "            'due',\n",
       "            'dure',\n",
       "            'during',\n",
       "            'each',\n",
       "            'eg',\n",
       "            'eight',\n",
       "            'either',\n",
       "            'el',\n",
       "            'eleven',\n",
       "            'els',\n",
       "            'else',\n",
       "            'elsewh',\n",
       "            'elsewher',\n",
       "            'elsewhere',\n",
       "            'empti',\n",
       "            'empty',\n",
       "            'enough',\n",
       "            'etc',\n",
       "            'even',\n",
       "            'ever',\n",
       "            'everi',\n",
       "            'every',\n",
       "            'everyon',\n",
       "            'everyone',\n",
       "            'everyth',\n",
       "            'everything',\n",
       "            'everywh',\n",
       "            'everywher',\n",
       "            'everywhere',\n",
       "            'except',\n",
       "            'few',\n",
       "            'fifteen',\n",
       "            'fifti',\n",
       "            'fifty',\n",
       "            'fill',\n",
       "            'find',\n",
       "            'fire',\n",
       "            'first',\n",
       "            'five',\n",
       "            'for',\n",
       "            'former',\n",
       "            'formerli',\n",
       "            'formerly',\n",
       "            'forti',\n",
       "            'forty',\n",
       "            'found',\n",
       "            'four',\n",
       "            'from',\n",
       "            'front',\n",
       "            'full',\n",
       "            'further',\n",
       "            'get',\n",
       "            'give',\n",
       "            'go',\n",
       "            'ha',\n",
       "            'had',\n",
       "            'has',\n",
       "            'hasnt',\n",
       "            'have',\n",
       "            'he',\n",
       "            'henc',\n",
       "            'hence',\n",
       "            'her',\n",
       "            'here',\n",
       "            'hereaft',\n",
       "            'hereafter',\n",
       "            'herebi',\n",
       "            'hereby',\n",
       "            'herein',\n",
       "            'hereupon',\n",
       "            'hers',\n",
       "            'herself',\n",
       "            'hi',\n",
       "            'him',\n",
       "            'himself',\n",
       "            'his',\n",
       "            'how',\n",
       "            'howev',\n",
       "            'however',\n",
       "            'hundr',\n",
       "            'hundred',\n",
       "            'i',\n",
       "            'ie',\n",
       "            'if',\n",
       "            'in',\n",
       "            'inc',\n",
       "            'ind',\n",
       "            'inde',\n",
       "            'indeed',\n",
       "            'interest',\n",
       "            'into',\n",
       "            'is',\n",
       "            'it',\n",
       "            'its',\n",
       "            'itself',\n",
       "            'just',\n",
       "            'keep',\n",
       "            'last',\n",
       "            'latter',\n",
       "            'latterli',\n",
       "            'latterly',\n",
       "            'le',\n",
       "            'least',\n",
       "            'less',\n",
       "            'like',\n",
       "            'ltd',\n",
       "            'made',\n",
       "            'mani',\n",
       "            'many',\n",
       "            'may',\n",
       "            'me',\n",
       "            'meanwhil',\n",
       "            'meanwhile',\n",
       "            'might',\n",
       "            'mill',\n",
       "            'mine',\n",
       "            'more',\n",
       "            'moreov',\n",
       "            'moreover',\n",
       "            'most',\n",
       "            'mostli',\n",
       "            'mostly',\n",
       "            'move',\n",
       "            'much',\n",
       "            'must',\n",
       "            'my',\n",
       "            'myself',\n",
       "            'name',\n",
       "            'namely',\n",
       "            'neither',\n",
       "            'never',\n",
       "            'nevertheless',\n",
       "            'next',\n",
       "            'nine',\n",
       "            'no',\n",
       "            'nobodi',\n",
       "            'nobody',\n",
       "            'none',\n",
       "            'noon',\n",
       "            'noone',\n",
       "            'nor',\n",
       "            'not',\n",
       "            'noth',\n",
       "            'nothing',\n",
       "            'now',\n",
       "            'nowher',\n",
       "            'nowhere',\n",
       "            'of',\n",
       "            'off',\n",
       "            'often',\n",
       "            'on',\n",
       "            'onc',\n",
       "            'once',\n",
       "            'one',\n",
       "            'onli',\n",
       "            'only',\n",
       "            'onto',\n",
       "            'or',\n",
       "            'other',\n",
       "            'others',\n",
       "            'otherwi',\n",
       "            'otherwis',\n",
       "            'otherwise',\n",
       "            'our',\n",
       "            'ours',\n",
       "            'ourselv',\n",
       "            'ourselves',\n",
       "            'out',\n",
       "            'over',\n",
       "            'own',\n",
       "            'part',\n",
       "            'per',\n",
       "            'perhap',\n",
       "            'perhaps',\n",
       "            'plea',\n",
       "            'pleas',\n",
       "            'please',\n",
       "            'put',\n",
       "            'rather',\n",
       "            're',\n",
       "            'same',\n",
       "            'see',\n",
       "            'seem',\n",
       "            'seemed',\n",
       "            'seeming',\n",
       "            'seems',\n",
       "            'seriou',\n",
       "            'serious',\n",
       "            'sever',\n",
       "            'several',\n",
       "            'she',\n",
       "            'should',\n",
       "            'show',\n",
       "            'side',\n",
       "            'sinc',\n",
       "            'since',\n",
       "            'sincer',\n",
       "            'sincere',\n",
       "            'six',\n",
       "            'sixti',\n",
       "            'sixty',\n",
       "            'so',\n",
       "            'some',\n",
       "            'somehow',\n",
       "            'someon',\n",
       "            'someone',\n",
       "            'someth',\n",
       "            'something',\n",
       "            'sometim',\n",
       "            'sometime',\n",
       "            'sometimes',\n",
       "            'somewh',\n",
       "            'somewher',\n",
       "            'somewhere',\n",
       "            'still',\n",
       "            'such',\n",
       "            'system',\n",
       "            'take',\n",
       "            'ten',\n",
       "            'than',\n",
       "            'that',\n",
       "            'the',\n",
       "            'their',\n",
       "            'them',\n",
       "            'themselv',\n",
       "            'themselves',\n",
       "            'then',\n",
       "            'thenc',\n",
       "            'thence',\n",
       "            'there',\n",
       "            'thereaft',\n",
       "            'thereafter',\n",
       "            'therebi',\n",
       "            'thereby',\n",
       "            'therefor',\n",
       "            'therefore',\n",
       "            'therein',\n",
       "            'thereupon',\n",
       "            'these',\n",
       "            'they',\n",
       "            'thi',\n",
       "            'thick',\n",
       "            'thin',\n",
       "            'third',\n",
       "            'this',\n",
       "            'those',\n",
       "            'though',\n",
       "            'three',\n",
       "            'through',\n",
       "            'throughout',\n",
       "            'thru',\n",
       "            'thu',\n",
       "            'thus',\n",
       "            'time',\n",
       "            'to',\n",
       "            'togeth',\n",
       "            'together',\n",
       "            'too',\n",
       "            'top',\n",
       "            'toward',\n",
       "            'towards',\n",
       "            'twelv',\n",
       "            'twelve',\n",
       "            'twenti',\n",
       "            'twenty',\n",
       "            'two',\n",
       "            'u',\n",
       "            'un',\n",
       "            'under',\n",
       "            'until',\n",
       "            'up',\n",
       "            'upon',\n",
       "            'us',\n",
       "            'veri',\n",
       "            'very',\n",
       "            'via',\n",
       "            'wa',\n",
       "            'was',\n",
       "            'we',\n",
       "            'well',\n",
       "            'were',\n",
       "            'what',\n",
       "            'whatev',\n",
       "            'whatever',\n",
       "            'when',\n",
       "            'whenc',\n",
       "            'whence',\n",
       "            'whenev',\n",
       "            'whenever',\n",
       "            'where',\n",
       "            'wherea',\n",
       "            'whereaft',\n",
       "            'whereafter',\n",
       "            'whereas',\n",
       "            'wherebi',\n",
       "            'whereby',\n",
       "            'wherein',\n",
       "            'whereupon',\n",
       "            'wherev',\n",
       "            'wherever',\n",
       "            'whether',\n",
       "            'whi',\n",
       "            'which',\n",
       "            'while',\n",
       "            'whither',\n",
       "            'who',\n",
       "            'whoever',\n",
       "            'whole',\n",
       "            'whom',\n",
       "            'whose',\n",
       "            'why',\n",
       "            'will',\n",
       "            'with',\n",
       "            'within',\n",
       "            'without',\n",
       "            'would',\n",
       "            'yet',\n",
       "            'you',\n",
       "            'your',\n",
       "            'yours',\n",
       "            'yourself',\n",
       "            'yourselv',\n",
       "            'yourselves'}),\n",
       " 'tfidf__ngram_range': (1, 1),\n",
       " 'tfidf__min_df': 3,\n",
       " 'tfidf__max_features': 5000,\n",
       " 'tfidf__max_df': 0.975,\n",
       " 'tfidf__analyzer': 'word'}"
      ]
     },
     "execution_count": 18,
     "metadata": {},
     "output_type": "execute_result"
    }
   ],
   "source": [
    "rscv_MNB.best_params_"
   ]
  },
  {
   "cell_type": "code",
   "execution_count": 19,
   "metadata": {},
   "outputs": [
    {
     "data": {
      "text/plain": [
       "0.939329050678087"
      ]
     },
     "execution_count": 19,
     "metadata": {},
     "output_type": "execute_result"
    }
   ],
   "source": [
    "rscv_MNB.best_score_"
   ]
  },
  {
   "cell_type": "code",
   "execution_count": 20,
   "metadata": {},
   "outputs": [],
   "source": [
    "opt_NB_steps = [('tfidf', TfidfVectorizer(analyzer=\"word\", ngram_range=(1,1), min_df=4, max_features=5000, max_df=0.95, stop_words=updated_stop_words, tokenizer=lemma_tokenizer)),\n",
    "                ('NB', MultinomialNB())]\n",
    "\n",
    "opt_NB_pipeline = Pipeline(opt_NB_steps)"
   ]
  },
  {
   "cell_type": "code",
   "execution_count": 21,
   "metadata": {},
   "outputs": [
    {
     "data": {
      "text/plain": [
       "Pipeline(memory=None,\n",
       "         steps=[('tfidf',\n",
       "                 TfidfVectorizer(analyzer='word', binary=False,\n",
       "                                 decode_error='strict',\n",
       "                                 dtype=<class 'numpy.float64'>,\n",
       "                                 encoding='utf-8', input='content',\n",
       "                                 lowercase=True, max_df=0.95, max_features=5000,\n",
       "                                 min_df=4, ngram_range=(1, 1), norm='l2',\n",
       "                                 preprocessor=None, smooth_idf=True,\n",
       "                                 stop_words=frozenset({'a', 'about', 'abov',\n",
       "                                                       'above', 'across',\n",
       "                                                       'after', 'a...\n",
       "                                                       'alreadi', 'already',\n",
       "                                                       'also', 'although',\n",
       "                                                       'alway', 'always', 'am',\n",
       "                                                       'among', 'amongst',\n",
       "                                                       'amoungst', 'amount',\n",
       "                                                       'an', 'and', 'ani',\n",
       "                                                       'anoth', ...}),\n",
       "                                 strip_accents=None, sublinear_tf=False,\n",
       "                                 token_pattern='(?u)\\\\b\\\\w\\\\w+\\\\b',\n",
       "                                 tokenizer=<function lemma_tokenizer at 0x000001C19E583EA0>,\n",
       "                                 use_idf=True, vocabulary=None)),\n",
       "                ('NB',\n",
       "                 MultinomialNB(alpha=1.0, class_prior=None, fit_prior=True))],\n",
       "         verbose=False)"
      ]
     },
     "execution_count": 21,
     "metadata": {},
     "output_type": "execute_result"
    }
   ],
   "source": [
    "opt_NB_pipeline.fit(X_train, y_train)"
   ]
  },
  {
   "cell_type": "code",
   "execution_count": 22,
   "metadata": {},
   "outputs": [
    {
     "data": {
      "text/plain": [
       "0.9316239316239316"
      ]
     },
     "execution_count": 22,
     "metadata": {},
     "output_type": "execute_result"
    }
   ],
   "source": [
    "opt_NB_pipeline.score(X_test, y_test)"
   ]
  },
  {
   "cell_type": "markdown",
   "metadata": {},
   "source": [
    "### Implementing Pipeline & RandomizedSearch (TfidfVectorizer & RandomForest Classification)"
   ]
  },
  {
   "cell_type": "code",
   "execution_count": 23,
   "metadata": {},
   "outputs": [],
   "source": [
    "rf_steps = [('tfidf', TfidfVectorizer()),\n",
    "            ('rf', RandomForestClassifier())]\n",
    "\n",
    "rf_pipeline = Pipeline(rf_steps)"
   ]
  },
  {
   "cell_type": "code",
   "execution_count": 24,
   "metadata": {},
   "outputs": [
    {
     "data": {
      "text/plain": [
       "dict_keys(['memory', 'steps', 'verbose', 'tfidf', 'rf', 'tfidf__analyzer', 'tfidf__binary', 'tfidf__decode_error', 'tfidf__dtype', 'tfidf__encoding', 'tfidf__input', 'tfidf__lowercase', 'tfidf__max_df', 'tfidf__max_features', 'tfidf__min_df', 'tfidf__ngram_range', 'tfidf__norm', 'tfidf__preprocessor', 'tfidf__smooth_idf', 'tfidf__stop_words', 'tfidf__strip_accents', 'tfidf__sublinear_tf', 'tfidf__token_pattern', 'tfidf__tokenizer', 'tfidf__use_idf', 'tfidf__vocabulary', 'rf__bootstrap', 'rf__class_weight', 'rf__criterion', 'rf__max_depth', 'rf__max_features', 'rf__max_leaf_nodes', 'rf__min_impurity_decrease', 'rf__min_impurity_split', 'rf__min_samples_leaf', 'rf__min_samples_split', 'rf__min_weight_fraction_leaf', 'rf__n_estimators', 'rf__n_jobs', 'rf__oob_score', 'rf__random_state', 'rf__verbose', 'rf__warm_start'])"
      ]
     },
     "execution_count": 24,
     "metadata": {},
     "output_type": "execute_result"
    }
   ],
   "source": [
    "rf_pipeline.get_params().keys()"
   ]
  },
  {
   "cell_type": "code",
   "execution_count": 25,
   "metadata": {},
   "outputs": [],
   "source": [
    "parameters = {\n",
    "    'tfidf__analyzer' : [\"word\"],\n",
    "    'tfidf__ngram_range' : [(1,2), (1,1)],\n",
    "    'tfidf__max_features' : [1000, 2000, 5000],\n",
    "    'tfidf__min_df' : range(1,5),\n",
    "    'tfidf__max_df' : np.linspace(0.9, 1, 5),\n",
    "    'tfidf__stop_words' : [updated_stop_words],\n",
    "    'tfidf__tokenizer' : [stemming_tokenizer, lemma_tokenizer],\n",
    "    'rf__max_depth' : [5,10],\n",
    "    'rf__n_estimators' : [50,100,150]\n",
    "}"
   ]
  },
  {
   "cell_type": "code",
   "execution_count": 26,
   "metadata": {},
   "outputs": [],
   "source": [
    "rscv_rf = RandomizedSearchCV(rf_pipeline, param_distributions=parameters, n_jobs=8, cv=5, verbose=1)"
   ]
  },
  {
   "cell_type": "code",
   "execution_count": 27,
   "metadata": {},
   "outputs": [
    {
     "name": "stdout",
     "output_type": "stream",
     "text": [
      "Fitting 5 folds for each of 10 candidates, totalling 50 fits\n"
     ]
    },
    {
     "name": "stderr",
     "output_type": "stream",
     "text": [
      "[Parallel(n_jobs=8)]: Using backend LokyBackend with 8 concurrent workers.\n",
      "[Parallel(n_jobs=8)]: Done  34 tasks      | elapsed:  1.0min\n",
      "[Parallel(n_jobs=8)]: Done  50 out of  50 | elapsed:  1.2min finished\n"
     ]
    },
    {
     "data": {
      "text/plain": [
       "RandomizedSearchCV(cv=5, error_score='raise-deprecating',\n",
       "                   estimator=Pipeline(memory=None,\n",
       "                                      steps=[('tfidf',\n",
       "                                              TfidfVectorizer(analyzer='word',\n",
       "                                                              binary=False,\n",
       "                                                              decode_error='strict',\n",
       "                                                              dtype=<class 'numpy.float64'>,\n",
       "                                                              encoding='utf-8',\n",
       "                                                              input='content',\n",
       "                                                              lowercase=True,\n",
       "                                                              max_df=1.0,\n",
       "                                                              max_features=None,\n",
       "                                                              min_df=1,\n",
       "                                                              ngram_range=(1,\n",
       "                                                                           1),\n",
       "                                                              norm='l2',\n",
       "                                                              preprocessor=None,\n",
       "                                                              smooth_idf=True,\n",
       "                                                              sto...\n",
       "                                                                         'along',\n",
       "                                                                         'alreadi',\n",
       "                                                                         'already',\n",
       "                                                                         'also',\n",
       "                                                                         'although',\n",
       "                                                                         'alway',\n",
       "                                                                         'always',\n",
       "                                                                         'am',\n",
       "                                                                         'among',\n",
       "                                                                         'amongst',\n",
       "                                                                         'amoungst',\n",
       "                                                                         'amount',\n",
       "                                                                         'an',\n",
       "                                                                         'and',\n",
       "                                                                         'ani',\n",
       "                                                                         'anoth', ...})],\n",
       "                                        'tfidf__tokenizer': [<function stemming_tokenizer at 0x000001C19E583B70>,\n",
       "                                                             <function lemma_tokenizer at 0x000001C19E583EA0>]},\n",
       "                   pre_dispatch='2*n_jobs', random_state=None, refit=True,\n",
       "                   return_train_score=False, scoring=None, verbose=1)"
      ]
     },
     "execution_count": 27,
     "metadata": {},
     "output_type": "execute_result"
    }
   ],
   "source": [
    "rscv_rf.fit(X_train, y_train)"
   ]
  },
  {
   "cell_type": "code",
   "execution_count": 28,
   "metadata": {},
   "outputs": [
    {
     "data": {
      "text/plain": [
       "{'tfidf__tokenizer': <function __main__.lemma_tokenizer(str_input)>,\n",
       " 'tfidf__stop_words': frozenset({'a',\n",
       "            'about',\n",
       "            'abov',\n",
       "            'above',\n",
       "            'across',\n",
       "            'after',\n",
       "            'afterward',\n",
       "            'afterwards',\n",
       "            'again',\n",
       "            'against',\n",
       "            'all',\n",
       "            'almost',\n",
       "            'alon',\n",
       "            'alone',\n",
       "            'along',\n",
       "            'alreadi',\n",
       "            'already',\n",
       "            'also',\n",
       "            'although',\n",
       "            'alway',\n",
       "            'always',\n",
       "            'am',\n",
       "            'among',\n",
       "            'amongst',\n",
       "            'amoungst',\n",
       "            'amount',\n",
       "            'an',\n",
       "            'and',\n",
       "            'ani',\n",
       "            'anoth',\n",
       "            'another',\n",
       "            'any',\n",
       "            'anyhow',\n",
       "            'anyon',\n",
       "            'anyone',\n",
       "            'anyth',\n",
       "            'anything',\n",
       "            'anyway',\n",
       "            'anywh',\n",
       "            'anywher',\n",
       "            'anywhere',\n",
       "            'are',\n",
       "            'around',\n",
       "            'as',\n",
       "            'at',\n",
       "            'back',\n",
       "            'be',\n",
       "            'becam',\n",
       "            'became',\n",
       "            'becau',\n",
       "            'becaus',\n",
       "            'because',\n",
       "            'becom',\n",
       "            'become',\n",
       "            'becomes',\n",
       "            'becoming',\n",
       "            'been',\n",
       "            'befor',\n",
       "            'before',\n",
       "            'beforehand',\n",
       "            'behind',\n",
       "            'being',\n",
       "            'below',\n",
       "            'besid',\n",
       "            'beside',\n",
       "            'besides',\n",
       "            'between',\n",
       "            'beyond',\n",
       "            'bill',\n",
       "            'both',\n",
       "            'bottom',\n",
       "            'but',\n",
       "            'by',\n",
       "            'call',\n",
       "            'can',\n",
       "            'cannot',\n",
       "            'cant',\n",
       "            'co',\n",
       "            'con',\n",
       "            'could',\n",
       "            'couldnt',\n",
       "            'cri',\n",
       "            'cry',\n",
       "            'de',\n",
       "            'describ',\n",
       "            'describe',\n",
       "            'detail',\n",
       "            'do',\n",
       "            'don',\n",
       "            'done',\n",
       "            'down',\n",
       "            'due',\n",
       "            'dure',\n",
       "            'during',\n",
       "            'each',\n",
       "            'eg',\n",
       "            'eight',\n",
       "            'either',\n",
       "            'el',\n",
       "            'eleven',\n",
       "            'els',\n",
       "            'else',\n",
       "            'elsewh',\n",
       "            'elsewher',\n",
       "            'elsewhere',\n",
       "            'empti',\n",
       "            'empty',\n",
       "            'enough',\n",
       "            'etc',\n",
       "            'even',\n",
       "            'ever',\n",
       "            'everi',\n",
       "            'every',\n",
       "            'everyon',\n",
       "            'everyone',\n",
       "            'everyth',\n",
       "            'everything',\n",
       "            'everywh',\n",
       "            'everywher',\n",
       "            'everywhere',\n",
       "            'except',\n",
       "            'few',\n",
       "            'fifteen',\n",
       "            'fifti',\n",
       "            'fifty',\n",
       "            'fill',\n",
       "            'find',\n",
       "            'fire',\n",
       "            'first',\n",
       "            'five',\n",
       "            'for',\n",
       "            'former',\n",
       "            'formerli',\n",
       "            'formerly',\n",
       "            'forti',\n",
       "            'forty',\n",
       "            'found',\n",
       "            'four',\n",
       "            'from',\n",
       "            'front',\n",
       "            'full',\n",
       "            'further',\n",
       "            'get',\n",
       "            'give',\n",
       "            'go',\n",
       "            'ha',\n",
       "            'had',\n",
       "            'has',\n",
       "            'hasnt',\n",
       "            'have',\n",
       "            'he',\n",
       "            'henc',\n",
       "            'hence',\n",
       "            'her',\n",
       "            'here',\n",
       "            'hereaft',\n",
       "            'hereafter',\n",
       "            'herebi',\n",
       "            'hereby',\n",
       "            'herein',\n",
       "            'hereupon',\n",
       "            'hers',\n",
       "            'herself',\n",
       "            'hi',\n",
       "            'him',\n",
       "            'himself',\n",
       "            'his',\n",
       "            'how',\n",
       "            'howev',\n",
       "            'however',\n",
       "            'hundr',\n",
       "            'hundred',\n",
       "            'i',\n",
       "            'ie',\n",
       "            'if',\n",
       "            'in',\n",
       "            'inc',\n",
       "            'ind',\n",
       "            'inde',\n",
       "            'indeed',\n",
       "            'interest',\n",
       "            'into',\n",
       "            'is',\n",
       "            'it',\n",
       "            'its',\n",
       "            'itself',\n",
       "            'just',\n",
       "            'keep',\n",
       "            'last',\n",
       "            'latter',\n",
       "            'latterli',\n",
       "            'latterly',\n",
       "            'le',\n",
       "            'least',\n",
       "            'less',\n",
       "            'like',\n",
       "            'ltd',\n",
       "            'made',\n",
       "            'mani',\n",
       "            'many',\n",
       "            'may',\n",
       "            'me',\n",
       "            'meanwhil',\n",
       "            'meanwhile',\n",
       "            'might',\n",
       "            'mill',\n",
       "            'mine',\n",
       "            'more',\n",
       "            'moreov',\n",
       "            'moreover',\n",
       "            'most',\n",
       "            'mostli',\n",
       "            'mostly',\n",
       "            'move',\n",
       "            'much',\n",
       "            'must',\n",
       "            'my',\n",
       "            'myself',\n",
       "            'name',\n",
       "            'namely',\n",
       "            'neither',\n",
       "            'never',\n",
       "            'nevertheless',\n",
       "            'next',\n",
       "            'nine',\n",
       "            'no',\n",
       "            'nobodi',\n",
       "            'nobody',\n",
       "            'none',\n",
       "            'noon',\n",
       "            'noone',\n",
       "            'nor',\n",
       "            'not',\n",
       "            'noth',\n",
       "            'nothing',\n",
       "            'now',\n",
       "            'nowher',\n",
       "            'nowhere',\n",
       "            'of',\n",
       "            'off',\n",
       "            'often',\n",
       "            'on',\n",
       "            'onc',\n",
       "            'once',\n",
       "            'one',\n",
       "            'onli',\n",
       "            'only',\n",
       "            'onto',\n",
       "            'or',\n",
       "            'other',\n",
       "            'others',\n",
       "            'otherwi',\n",
       "            'otherwis',\n",
       "            'otherwise',\n",
       "            'our',\n",
       "            'ours',\n",
       "            'ourselv',\n",
       "            'ourselves',\n",
       "            'out',\n",
       "            'over',\n",
       "            'own',\n",
       "            'part',\n",
       "            'per',\n",
       "            'perhap',\n",
       "            'perhaps',\n",
       "            'plea',\n",
       "            'pleas',\n",
       "            'please',\n",
       "            'put',\n",
       "            'rather',\n",
       "            're',\n",
       "            'same',\n",
       "            'see',\n",
       "            'seem',\n",
       "            'seemed',\n",
       "            'seeming',\n",
       "            'seems',\n",
       "            'seriou',\n",
       "            'serious',\n",
       "            'sever',\n",
       "            'several',\n",
       "            'she',\n",
       "            'should',\n",
       "            'show',\n",
       "            'side',\n",
       "            'sinc',\n",
       "            'since',\n",
       "            'sincer',\n",
       "            'sincere',\n",
       "            'six',\n",
       "            'sixti',\n",
       "            'sixty',\n",
       "            'so',\n",
       "            'some',\n",
       "            'somehow',\n",
       "            'someon',\n",
       "            'someone',\n",
       "            'someth',\n",
       "            'something',\n",
       "            'sometim',\n",
       "            'sometime',\n",
       "            'sometimes',\n",
       "            'somewh',\n",
       "            'somewher',\n",
       "            'somewhere',\n",
       "            'still',\n",
       "            'such',\n",
       "            'system',\n",
       "            'take',\n",
       "            'ten',\n",
       "            'than',\n",
       "            'that',\n",
       "            'the',\n",
       "            'their',\n",
       "            'them',\n",
       "            'themselv',\n",
       "            'themselves',\n",
       "            'then',\n",
       "            'thenc',\n",
       "            'thence',\n",
       "            'there',\n",
       "            'thereaft',\n",
       "            'thereafter',\n",
       "            'therebi',\n",
       "            'thereby',\n",
       "            'therefor',\n",
       "            'therefore',\n",
       "            'therein',\n",
       "            'thereupon',\n",
       "            'these',\n",
       "            'they',\n",
       "            'thi',\n",
       "            'thick',\n",
       "            'thin',\n",
       "            'third',\n",
       "            'this',\n",
       "            'those',\n",
       "            'though',\n",
       "            'three',\n",
       "            'through',\n",
       "            'throughout',\n",
       "            'thru',\n",
       "            'thu',\n",
       "            'thus',\n",
       "            'time',\n",
       "            'to',\n",
       "            'togeth',\n",
       "            'together',\n",
       "            'too',\n",
       "            'top',\n",
       "            'toward',\n",
       "            'towards',\n",
       "            'twelv',\n",
       "            'twelve',\n",
       "            'twenti',\n",
       "            'twenty',\n",
       "            'two',\n",
       "            'u',\n",
       "            'un',\n",
       "            'under',\n",
       "            'until',\n",
       "            'up',\n",
       "            'upon',\n",
       "            'us',\n",
       "            'veri',\n",
       "            'very',\n",
       "            'via',\n",
       "            'wa',\n",
       "            'was',\n",
       "            'we',\n",
       "            'well',\n",
       "            'were',\n",
       "            'what',\n",
       "            'whatev',\n",
       "            'whatever',\n",
       "            'when',\n",
       "            'whenc',\n",
       "            'whence',\n",
       "            'whenev',\n",
       "            'whenever',\n",
       "            'where',\n",
       "            'wherea',\n",
       "            'whereaft',\n",
       "            'whereafter',\n",
       "            'whereas',\n",
       "            'wherebi',\n",
       "            'whereby',\n",
       "            'wherein',\n",
       "            'whereupon',\n",
       "            'wherev',\n",
       "            'wherever',\n",
       "            'whether',\n",
       "            'whi',\n",
       "            'which',\n",
       "            'while',\n",
       "            'whither',\n",
       "            'who',\n",
       "            'whoever',\n",
       "            'whole',\n",
       "            'whom',\n",
       "            'whose',\n",
       "            'why',\n",
       "            'will',\n",
       "            'with',\n",
       "            'within',\n",
       "            'without',\n",
       "            'would',\n",
       "            'yet',\n",
       "            'you',\n",
       "            'your',\n",
       "            'yours',\n",
       "            'yourself',\n",
       "            'yourselv',\n",
       "            'yourselves'}),\n",
       " 'tfidf__ngram_range': (1, 1),\n",
       " 'tfidf__min_df': 3,\n",
       " 'tfidf__max_features': 5000,\n",
       " 'tfidf__max_df': 0.925,\n",
       " 'tfidf__analyzer': 'word',\n",
       " 'rf__n_estimators': 100,\n",
       " 'rf__max_depth': 10}"
      ]
     },
     "execution_count": 28,
     "metadata": {},
     "output_type": "execute_result"
    }
   ],
   "source": [
    "rscv_rf.best_params_"
   ]
  },
  {
   "cell_type": "code",
   "execution_count": 29,
   "metadata": {},
   "outputs": [
    {
     "data": {
      "text/plain": [
       "0.907209136331192"
      ]
     },
     "execution_count": 29,
     "metadata": {},
     "output_type": "execute_result"
    }
   ],
   "source": [
    "rscv_rf.best_score_"
   ]
  },
  {
   "cell_type": "code",
   "execution_count": 30,
   "metadata": {},
   "outputs": [],
   "source": [
    "opt_rf_steps = [('tfidf', TfidfVectorizer(analyzer='word', ngram_range=(1,2), min_df=3, max_features=2000, max_df=0.925, stop_words=updated_stop_words, tokenizer=stemming_tokenizer)),\n",
    "                ('rf', RandomForestClassifier(n_estimators=100, max_depth=10))]\n",
    "\n",
    "opt_rf_pipeline = Pipeline(opt_rf_steps)"
   ]
  },
  {
   "cell_type": "code",
   "execution_count": 31,
   "metadata": {},
   "outputs": [
    {
     "data": {
      "text/plain": [
       "Pipeline(memory=None,\n",
       "         steps=[('tfidf',\n",
       "                 TfidfVectorizer(analyzer='word', binary=False,\n",
       "                                 decode_error='strict',\n",
       "                                 dtype=<class 'numpy.float64'>,\n",
       "                                 encoding='utf-8', input='content',\n",
       "                                 lowercase=True, max_df=0.925,\n",
       "                                 max_features=2000, min_df=3,\n",
       "                                 ngram_range=(1, 2), norm='l2',\n",
       "                                 preprocessor=None, smooth_idf=True,\n",
       "                                 stop_words=frozenset({'a', 'about', 'abov',\n",
       "                                                       'above', 'across',\n",
       "                                                       'after', '...\n",
       "                 RandomForestClassifier(bootstrap=True, class_weight=None,\n",
       "                                        criterion='gini', max_depth=10,\n",
       "                                        max_features='auto',\n",
       "                                        max_leaf_nodes=None,\n",
       "                                        min_impurity_decrease=0.0,\n",
       "                                        min_impurity_split=None,\n",
       "                                        min_samples_leaf=1, min_samples_split=2,\n",
       "                                        min_weight_fraction_leaf=0.0,\n",
       "                                        n_estimators=100, n_jobs=None,\n",
       "                                        oob_score=False, random_state=None,\n",
       "                                        verbose=0, warm_start=False))],\n",
       "         verbose=False)"
      ]
     },
     "execution_count": 31,
     "metadata": {},
     "output_type": "execute_result"
    }
   ],
   "source": [
    "opt_rf_pipeline.fit(X_train, y_train)"
   ]
  },
  {
   "cell_type": "code",
   "execution_count": 32,
   "metadata": {},
   "outputs": [
    {
     "data": {
      "text/plain": [
       "0.9102564102564102"
      ]
     },
     "execution_count": 32,
     "metadata": {},
     "output_type": "execute_result"
    }
   ],
   "source": [
    "opt_rf_pipeline.score(X_test, y_test)"
   ]
  },
  {
   "cell_type": "markdown",
   "metadata": {},
   "source": [
    "Based on the randomized search of both models, it seems like the Multinomial Naive Bayes performs slightly better at approximately 93% to 94% accuracy and the RandomForest model yields a slightly lower accuracy of 91% to 93%. Both models perform significantly better than our baseline accuracy.\n",
    "\n",
    "I will be using the Multinomial Naive Bayes model for subsequent evaluations."
   ]
  },
  {
   "cell_type": "markdown",
   "metadata": {},
   "source": [
    "## Using Multinomial Naive Bayes Classifier to help us draw inference"
   ]
  },
  {
   "cell_type": "code",
   "execution_count": 33,
   "metadata": {},
   "outputs": [],
   "source": [
    "feat_list = []\n",
    "\n",
    "for i in zip(opt_NB_pipeline.steps[0][1].get_feature_names(), opt_NB_pipeline.steps[1][1].coef_[0]):\n",
    "    feat_list.append(i)"
   ]
  },
  {
   "cell_type": "code",
   "execution_count": 34,
   "metadata": {},
   "outputs": [],
   "source": [
    "feature_importance = pd.DataFrame(feat_list, columns=['Words', 'Log Prob'])\n",
    "feature_importance.sort_values(by=['Log Prob'], ascending=False, inplace=True)"
   ]
  },
  {
   "cell_type": "code",
   "execution_count": 35,
   "metadata": {},
   "outputs": [
    {
     "data": {
      "text/html": [
       "<div>\n",
       "<style scoped>\n",
       "    .dataframe tbody tr th:only-of-type {\n",
       "        vertical-align: middle;\n",
       "    }\n",
       "\n",
       "    .dataframe tbody tr th {\n",
       "        vertical-align: top;\n",
       "    }\n",
       "\n",
       "    .dataframe thead th {\n",
       "        text-align: right;\n",
       "    }\n",
       "</style>\n",
       "<table border=\"1\" class=\"dataframe\">\n",
       "  <thead>\n",
       "    <tr style=\"text-align: right;\">\n",
       "      <th></th>\n",
       "      <th>Words</th>\n",
       "      <th>Log Prob</th>\n",
       "    </tr>\n",
       "  </thead>\n",
       "  <tbody>\n",
       "    <tr>\n",
       "      <th>1436</th>\n",
       "      <td>eye</td>\n",
       "      <td>-6.099409</td>\n",
       "    </tr>\n",
       "    <tr>\n",
       "      <th>1196</th>\n",
       "      <td>door</td>\n",
       "      <td>-6.150998</td>\n",
       "    </tr>\n",
       "    <tr>\n",
       "      <th>2464</th>\n",
       "      <td>man</td>\n",
       "      <td>-6.313227</td>\n",
       "    </tr>\n",
       "    <tr>\n",
       "      <th>2667</th>\n",
       "      <td>night</td>\n",
       "      <td>-6.337655</td>\n",
       "    </tr>\n",
       "    <tr>\n",
       "      <th>2263</th>\n",
       "      <td>know</td>\n",
       "      <td>-6.399682</td>\n",
       "    </tr>\n",
       "    <tr>\n",
       "      <th>3333</th>\n",
       "      <td>room</td>\n",
       "      <td>-6.408069</td>\n",
       "    </tr>\n",
       "    <tr>\n",
       "      <th>1037</th>\n",
       "      <td>day</td>\n",
       "      <td>-6.416506</td>\n",
       "    </tr>\n",
       "    <tr>\n",
       "      <th>4096</th>\n",
       "      <td>thing</td>\n",
       "      <td>-6.463643</td>\n",
       "    </tr>\n",
       "    <tr>\n",
       "      <th>1128</th>\n",
       "      <td>didn</td>\n",
       "      <td>-6.498178</td>\n",
       "    </tr>\n",
       "    <tr>\n",
       "      <th>2852</th>\n",
       "      <td>people</td>\n",
       "      <td>-6.502723</td>\n",
       "    </tr>\n",
       "  </tbody>\n",
       "</table>\n",
       "</div>"
      ],
      "text/plain": [
       "       Words  Log Prob\n",
       "1436     eye -6.099409\n",
       "1196    door -6.150998\n",
       "2464     man -6.313227\n",
       "2667   night -6.337655\n",
       "2263    know -6.399682\n",
       "3333    room -6.408069\n",
       "1037     day -6.416506\n",
       "4096   thing -6.463643\n",
       "1128    didn -6.498178\n",
       "2852  people -6.502723"
      ]
     },
     "execution_count": 35,
     "metadata": {},
     "output_type": "execute_result"
    }
   ],
   "source": [
    "feature_importance.head(10)"
   ]
  },
  {
   "cell_type": "markdown",
   "metadata": {},
   "source": [
    "Based on our model, the top 10 words which have the greatest impact in our classification of a text as Horror are:\n",
    "1. eye\n",
    "2. door\n",
    "3. man\n",
    "4. night\n",
    "5. know\n",
    "6. room\n",
    "7. day\n",
    "8. thing\n",
    "9. didn\n",
    "10. people"
   ]
  },
  {
   "cell_type": "markdown",
   "metadata": {},
   "source": [
    "## Evaluation of our Multinomial Naive Bayes Model"
   ]
  },
  {
   "cell_type": "markdown",
   "metadata": {},
   "source": [
    "### Getting our Confusion Matrix"
   ]
  },
  {
   "cell_type": "code",
   "execution_count": 36,
   "metadata": {},
   "outputs": [],
   "source": [
    "tn, fp, fn, tp = confusion_matrix(y_test, opt_rf_pipeline.predict(X_test)).ravel()"
   ]
  },
  {
   "cell_type": "code",
   "execution_count": 37,
   "metadata": {},
   "outputs": [
    {
     "name": "stdout",
     "output_type": "stream",
     "text": [
      "Sensitivity: 91.2%\n",
      "Specificity: 90.9%\n"
     ]
    }
   ],
   "source": [
    "sensitivity = tp / (tp+fn)\n",
    "specificity = tn / (tn+fp)\n",
    "\n",
    "print ('Sensitivity: ' + str(round(sensitivity, 3)*100) + '%')\n",
    "print ('Specificity: ' + str(round(specificity, 3)*100) + '%')"
   ]
  },
  {
   "cell_type": "markdown",
   "metadata": {},
   "source": [
    "### Visualizing Probability Distribution"
   ]
  },
  {
   "cell_type": "code",
   "execution_count": 38,
   "metadata": {},
   "outputs": [],
   "source": [
    "pred_proba = [i[1] for i in opt_NB_pipeline.predict_proba(X_test)]\n",
    "pred_df = pd.DataFrame({'true_values': y_test,'pred_probs':pred_proba})"
   ]
  },
  {
   "cell_type": "code",
   "execution_count": 40,
   "metadata": {},
   "outputs": [
    {
     "data": {
      "image/png": "[encoded data removed]",
      "text/plain": [
       "<Figure size 864x576 with 1 Axes>"
      ]
     },
     "metadata": {
      "needs_background": "light"
     },
     "output_type": "display_data"
    }
   ],
   "source": [
    "plt.figure(figsize = (12,8))\n",
    "plt.hist(pred_df[pred_df['true_values'] == 0]['pred_probs'],\n",
    "         bins=25,\n",
    "         color='b',\n",
    "         alpha = 0.6,\n",
    "         label='Outcome = 0 (Romance)')\n",
    "plt.hist(pred_df[pred_df['true_values'] == 1]['pred_probs'],\n",
    "         bins=25,\n",
    "         color='orange',\n",
    "         alpha = 0.6,\n",
    "         label='Outcome = 1 (Horror)')\n",
    "plt.vlines(x=0.5,\n",
    "           ymin = 0,\n",
    "           ymax = 65,\n",
    "           color='r',\n",
    "           linestyle = '--')\n",
    "plt.title('Distribution', fontsize=15)\n",
    "plt.ylabel('Frequency', fontsize=15)\n",
    "plt.xlabel('Predicted Probability', fontsize=18)\n",
    "plt.legend(fontsize=15);\n",
    "plt.savefig('../images/outcome-predicted-probability-distribution.jpg')"
   ]
  },
  {
   "cell_type": "markdown",
   "metadata": {},
   "source": [
    "### Visualizing AUC-ROC Curve"
   ]
  },
  {
   "cell_type": "code",
   "execution_count": 41,
   "metadata": {},
   "outputs": [
    {
     "data": {
      "image/png": "[encoded data removed]",
      "text/plain": [
       "<Figure size 720x504 with 1 Axes>"
      ]
     },
     "metadata": {
      "needs_background": "light"
     },
     "output_type": "display_data"
    }
   ],
   "source": [
    "# Create figure.\n",
    "plt.figure(figsize = (10,7))\n",
    "\n",
    "# Create threshold values.\n",
    "thresholds = np.linspace(0, 1, 200)\n",
    "\n",
    "# Define function to calculate sensitivity. (True positive rate.)\n",
    "def TPR(df, true_col, pred_prob_col, threshold):\n",
    "    true_positive = df[(df[true_col] == 1) & (df[pred_prob_col] >= threshold)].shape[0]\n",
    "    false_negative = df[(df[true_col] == 1) & (df[pred_prob_col] < threshold)].shape[0]\n",
    "    return true_positive / (true_positive + false_negative)\n",
    "    \n",
    "\n",
    "# Define function to calculate 1 - specificity. (False positive rate.)\n",
    "def FPR(df, true_col, pred_prob_col, threshold):\n",
    "    true_negative = df[(df[true_col] == 0) & (df[pred_prob_col] <= threshold)].shape[0]\n",
    "    false_positive = df[(df[true_col] == 0) & (df[pred_prob_col] > threshold)].shape[0]\n",
    "    return 1 - (true_negative / (true_negative + false_positive))\n",
    "    \n",
    "# Calculate sensitivity & 1-specificity for each threshold between 0 and 1.\n",
    "tpr_values = [TPR(pred_df, 'true_values', 'pred_probs', prob) for prob in thresholds]\n",
    "fpr_values = [FPR(pred_df, 'true_values', 'pred_probs', prob) for prob in thresholds]\n",
    "\n",
    "# Plot ROC curve.\n",
    "plt.plot(fpr_values, # False Positive Rate on X-axis\n",
    "         tpr_values, # True Positive Rate on Y-axis\n",
    "         label='ROC Curve')\n",
    "\n",
    "# Plot baseline. (Perfect overlap between the two populations.)\n",
    "plt.plot(np.linspace(0, 1, 200),\n",
    "         np.linspace(0, 1, 200),\n",
    "         label='baseline',\n",
    "         linestyle='--')\n",
    "\n",
    "# Label axes.\n",
    "plt.title('Receiver Operating Characteristic Curve', fontsize=22)\n",
    "plt.ylabel('Sensitivity', fontsize=18)\n",
    "plt.xlabel('1 - Specificity', fontsize=18)\n",
    "\n",
    "# Create legend.\n",
    "plt.legend(fontsize=16);\n",
    "\n",
    "plt.savefig('../images/AUCROC.jpg')"
   ]
  }
 ],
 "metadata": {
  "kernelspec": {
   "display_name": "Python 3",
   "language": "python",
   "name": "python3"
  },
  "language_info": {
   "codemirror_mode": {
    "name": "ipython",
    "version": 3
   },
   "file_extension": ".py",
   "mimetype": "text/x-python",
   "name": "python",
   "nbconvert_exporter": "python",
   "pygments_lexer": "ipython3",
   "version": "3.7.4"
  }
 },
 "nbformat": 4,
 "nbformat_minor": 2
}
